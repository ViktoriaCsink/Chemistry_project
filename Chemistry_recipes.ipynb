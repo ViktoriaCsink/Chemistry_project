{
 "cells": [
  {
   "cell_type": "markdown",
   "id": "cathedral-explosion",
   "metadata": {},
   "source": [
    "# CheMastery: Identify information in chemical recipes"
   ]
  },
  {
   "cell_type": "code",
   "execution_count": 1,
   "id": "falling-magazine",
   "metadata": {},
   "outputs": [],
   "source": [
    "import pandas as pd\n",
    "import numpy as np\n",
    "import os\n",
    "import chemdataextractor\n",
    "from chemdataextractor import Document\n",
    "import spacy\n",
    "from spacy.tokens import DocBin\n",
    "from spacy import displacy\n",
    "import re\n",
    "from nltk.tokenize import TweetTokenizer\n",
    "import nltk\n",
    "from nltk.corpus import stopwords\n",
    "import json"
   ]
  },
  {
   "cell_type": "code",
   "execution_count": 62,
   "id": "julian-ethiopia",
   "metadata": {},
   "outputs": [],
   "source": [
    "main = '/Users/Viktoria/Desktop/Chemistry_project'\n",
    "code = os.path.join(main, 'notebooks')\n",
    "data = os.path.join(main, 'raw data')\n",
    "preproc = os.path.join(main, 'preprocessed_data')"
   ]
  },
  {
   "cell_type": "code",
   "execution_count": 3,
   "id": "disciplinary-martin",
   "metadata": {},
   "outputs": [],
   "source": [
    "os.chdir(data)\n",
    "f = open('exercise_experimentals.txt', 'rb')\n",
    "doc = Document.from_file(f)"
   ]
  },
  {
   "cell_type": "code",
   "execution_count": 4,
   "id": "labeled-relevance",
   "metadata": {},
   "outputs": [
    {
     "name": "stdout",
     "output_type": "stream",
     "text": [
      "11   <class 'chemdataextractor.doc.document.Document'>\n"
     ]
    }
   ],
   "source": [
    "print(len(doc), ' ', type(doc))"
   ]
  },
  {
   "cell_type": "markdown",
   "id": "posted-melbourne",
   "metadata": {},
   "source": [
    "## Question 1. What was added to what?"
   ]
  },
  {
   "cell_type": "markdown",
   "id": "filled-nicaragua",
   "metadata": {},
   "source": [
    "### Step 1. Get the sentences of the text up until the last occurrence of addition. <br> Step 2. Get the named entities that stand for the ingredients. <br> Step 3. Get the syntactic position of the ingredients to find out 'what was added to what'. In 'X was added to Y' X is the subject, Y is the object. "
   ]
  },
  {
   "cell_type": "code",
   "execution_count": 5,
   "id": "regulation-movie",
   "metadata": {},
   "outputs": [],
   "source": [
    "#Create a list of strings (recipes) which contains the texts of each recipe up until the last occurrence of the phrase that contains the addition\n",
    "\n",
    "recipes=[]\n",
    "\n",
    "for i in range(0, len(doc)):\n",
    "    \n",
    "    paragraph=[]\n",
    "    tracker=[]\n",
    "    \n",
    "    for sentence in doc[i].sentences:\n",
    "        text=str(sentence).lower()\n",
    "        paragraph.append(text)\n",
    "        \n",
    "        #check if the addition phrase is present\n",
    "        if 'add' in text or 'addition' in text:\n",
    "            tracker.append(1)\n",
    "        else:\n",
    "            tracker.append(0)\n",
    "            \n",
    "    #consider the text until the last occurrence of the 'add' phrase\n",
    "    paragraph = paragraph[0:np.max(np.nonzero(tracker))+1]    \n",
    "    paragraph = ' '.join([p for p in paragraph])\n",
    "    recipes.append(paragraph)"
   ]
  },
  {
   "cell_type": "code",
   "execution_count": 6,
   "id": "persistent-causing",
   "metadata": {},
   "outputs": [],
   "source": [
    "#Get a list of all the chemical elements in each recipe\n",
    "\n",
    "entities=[]\n",
    "for i in range(len(doc.cems)):\n",
    "    entities.append(str(doc.cems[i]).lower())"
   ]
  },
  {
   "cell_type": "code",
   "execution_count": 7,
   "id": "western-harvest",
   "metadata": {},
   "outputs": [],
   "source": [
    "# Create dictionaries for each recipe (indices) with the name of the entity, starting position, ending position. \n",
    "# These dictionaries will be passed to spacy to get the syntax of the sentences.\n",
    "\n",
    "tagged_entities = []\n",
    "\n",
    "for recipe in recipes:\n",
    "    \n",
    "    indices={}\n",
    "    \n",
    "    #check which entities appear in the text\n",
    "    for entity in entities:\n",
    "        \n",
    "        #look for the entity \n",
    "        if entity in recipe:\n",
    "            \n",
    "            #get the start & end position and add it to the dict\n",
    "            start = recipe.index(entity)\n",
    "            end = recipe.index(entity)+len(entity)\n",
    "            indices[entity]=start, end\n",
    "            \n",
    "    #only match the full chemical name, not if e.g. the word 'h2o' is contained in a longer name\n",
    "    keys = list(indices.keys())\n",
    "    for word in keys: \n",
    "        if sum(word in k for k in keys) > 1: #more than 1 occurrences \n",
    "            indices.pop(word) #pop the short word that is contained by other words\n",
    "    \n",
    "    \n",
    "    tagged_entities.append(indices)"
   ]
  },
  {
   "cell_type": "code",
   "execution_count": 8,
   "id": "academic-psychology",
   "metadata": {},
   "outputs": [],
   "source": [
    "# Add the named entities to spacy, then get the information which one was the subject and which one the object of the sentence\n",
    "\n",
    "nlp = spacy.load(\"en_core_web_sm\") # load a new spacy model\n",
    "\n",
    "db = DocBin() # create a DocBin object\n",
    "corpora = [] # these will be the syntactically tagged recipes\n",
    "\n",
    "for i,v in enumerate(recipes):\n",
    "\n",
    "    indices=tagged_entities[i]\n",
    "\n",
    "    spacy_doc = nlp(recipes[i]) # create doc object from text\n",
    "    ents = []\n",
    "    \n",
    "    for (key,value) in indices.items(): # add character indexes\n",
    "        span = spacy_doc.char_span(value[0], value[1], label=key, alignment_mode=\"expand\")\n",
    "        \n",
    "        if span is None:\n",
    "            print('none')\n",
    "        else:\n",
    "            ents.append(span)\n",
    "          \n",
    "    spacy_doc.ents = ents # label the text with the ents\n",
    "    db.add(spacy_doc)\n",
    "    \n",
    "    corpora.append(spacy_doc)"
   ]
  },
  {
   "cell_type": "code",
   "execution_count": 9,
   "id": "sized-potter",
   "metadata": {},
   "outputs": [],
   "source": [
    "#Check on a single recipe if the tagging process was successful\n",
    "\n",
    "#spacy_doc.has_annotation(\"TAG\") #gives True"
   ]
  },
  {
   "cell_type": "code",
   "execution_count": 10,
   "id": "straight-communication",
   "metadata": {},
   "outputs": [],
   "source": [
    "#Visualise the sentence structure of a single recipe\n",
    "\n",
    "#displacy.render(spacy_doc, style=\"dep\")"
   ]
  },
  {
   "cell_type": "code",
   "execution_count": 11,
   "id": "parental-details",
   "metadata": {},
   "outputs": [],
   "source": [
    "# Now find out whether the ingredient in the recipe was a subject or an object\n",
    "# X was added to Y -> X is the subject, Y is the object\n",
    "\n",
    "for c in range(len(corpora)):\n",
    "\n",
    "    ingredients={}\n",
    "    indices = tagged_entities[c]\n",
    "\n",
    "    #get the name and the syntactic position\n",
    "    for token in corpora[c]:\n",
    "    \n",
    "        if 'subj' in token.dep_ or 'obj' in token.dep_:\n",
    "     \n",
    "            #if this is a chemical entity we are interested in\n",
    "            for k in indices.keys():\n",
    "                if token.text in k:\n",
    "                  \n",
    "                    #add the syntactic information\n",
    "                    indices[k] = token.dep_\n"
   ]
  },
  {
   "cell_type": "code",
   "execution_count": 23,
   "id": "alike-arrangement",
   "metadata": {},
   "outputs": [],
   "source": [
    "#In a structure \"X was added to Y\", X is the subject, i.e. the chemical being added & Y is object, i.e. the recipient\n",
    "\n",
    "def clean_results(value):\n",
    "    \n",
    "    if 'subj' in value:\n",
    "        value = 'Order of addition: Added to mixture'\n",
    "    elif 'obj' in value:\n",
    "        value = 'Order of addition: Recipient'\n",
    "    else:\n",
    "        value = 'Order of addition: Unknown'\n",
    "        \n",
    "    return value"
   ]
  },
  {
   "cell_type": "code",
   "execution_count": 24,
   "id": "czech-sullivan",
   "metadata": {},
   "outputs": [],
   "source": [
    "# Prepare results to Questions 1.\n",
    "\n",
    "res1=[]\n",
    "\n",
    "for i in tagged_entities:\n",
    "    ingredients = {key:clean_results(value) for (key,value) in i.items()}\n",
    "    res1.append(ingredients)"
   ]
  },
  {
   "cell_type": "code",
   "execution_count": 25,
   "id": "architectural-asthma",
   "metadata": {},
   "outputs": [
    {
     "data": {
      "text/plain": [
       "[{'(5r,7as)‐5‐butyl‐1h,3h,5h,7ah‐pyrrolo[1,2‐c][1,3]oxazol‐3‐one': 'Order of addition: Recipient',\n",
       "  '4-methylmorpholine n-oxide': 'Order of addition: Added to mixture',\n",
       "  'h2o': 'Order of addition: Unknown',\n",
       "  'potassium osmate dihydrate': 'Order of addition: Unknown',\n",
       "  'acetone': 'Order of addition: Recipient'},\n",
       " {'mesitylene': 'Order of addition: Recipient',\n",
       "  'ammonia': 'Order of addition: Recipient',\n",
       "  'methanol': 'Order of addition: Added to mixture',\n",
       "  'toluene': 'Order of addition: Recipient',\n",
       "  'benzyl alcohol': 'Order of addition: Recipient',\n",
       "  'n2': 'Order of addition: Unknown',\n",
       "  'h2ptcl6': 'Order of addition: Recipient'},\n",
       " {'dmso': 'Order of addition: Unknown',\n",
       "  '2-methylbenzaldehyde': 'Order of addition: Recipient',\n",
       "  'et2o': 'Order of addition: Recipient',\n",
       "  '(1s,2s)-1,2-bis(2-hydroxyphenyl)-1,2-diaminoethane': 'Order of addition: Recipient',\n",
       "  'nitrogen': 'Order of addition: Recipient'},\n",
       " {'cacl2': 'Order of addition: Unknown',\n",
       "  'dichloromethane': 'Order of addition: Added to mixture',\n",
       "  'benzylamine': 'Order of addition: Added to mixture',\n",
       "  'benzophenone imine': 'Order of addition: Unknown'},\n",
       " {'diethyl ether': 'Order of addition: Recipient',\n",
       "  'thf': 'Order of addition: Recipient',\n",
       "  'dichloromethane': 'Order of addition: Recipient',\n",
       "  'pyridine': 'Order of addition: Recipient',\n",
       "  'gd(otf)3·9h2o': 'Order of addition: Recipient',\n",
       "  'ybl·4h2o': 'Order of addition: Recipient',\n",
       "  'yellow precipitate': 'Order of addition: Recipient'},\n",
       " {'thf': 'Order of addition: Recipient',\n",
       "  'methyl 3,3-dimethylpent-4-enoate': 'Order of addition: Recipient',\n",
       "  'hydrochloric acid': 'Order of addition: Added to mixture',\n",
       "  'lithium aluminum hydride': 'Order of addition: Recipient'},\n",
       " {'thf': 'Order of addition: Recipient', 'tbaf': 'Order of addition: Unknown'},\n",
       " {'thf': 'Order of addition: Recipient',\n",
       "  'ethyl acetate': 'Order of addition: Recipient',\n",
       "  'silver hexafluorophosphate': 'Order of addition: Recipient',\n",
       "  'bright red': 'Order of addition: Recipient',\n",
       "  'argon': 'Order of addition: Recipient',\n",
       "  'triphenylphosphine': 'Order of addition: Recipient',\n",
       "  'hexanes': 'Order of addition: Recipient',\n",
       "  'silver chloride precipitate': 'Order of addition: Recipient',\n",
       "  'chloro(ƞ4–cycloocta–1,5–diene)(1,3-dimesitylimidazol-2-ylidene) iridium(i)': 'Order of addition: Recipient'},\n",
       " {'thf': 'Order of addition: Added to mixture',\n",
       "  '1,3-bis(2,6-di-iso-propylphenyl)-4,5-dimethylimidazolium chloride': 'Order of addition: Added to mixture',\n",
       "  'argon': 'Order of addition: Unknown',\n",
       "  'potassium tert-butoxide': 'Order of addition: Added to mixture',\n",
       "  'carbene': 'Order of addition: Unknown'},\n",
       " {'iridium(i)': 'Order of addition: Unknown'},\n",
       " {'thf': 'Order of addition: Recipient',\n",
       "  'nah': 'Order of addition: Recipient',\n",
       "  'dmso': 'Order of addition: Recipient',\n",
       "  'ethylene glycol': 'Order of addition: Recipient',\n",
       "  'tributyl(iodomethyl)stannane': 'Order of addition: Recipient'}]"
      ]
     },
     "execution_count": 25,
     "metadata": {},
     "output_type": "execute_result"
    }
   ],
   "source": [
    "res1"
   ]
  },
  {
   "cell_type": "markdown",
   "id": "miniature-connectivity",
   "metadata": {},
   "source": [
    "## Question 2. How much of each constituent was added?"
   ]
  },
  {
   "cell_type": "markdown",
   "id": "handmade-dakota",
   "metadata": {},
   "source": [
    "### Quantities are either in brackets after the named entity (0.01 mmol, 4.28 mg), or shortly before it '2 ml dry toluene'"
   ]
  },
  {
   "cell_type": "code",
   "execution_count": 41,
   "id": "falling-syria",
   "metadata": {},
   "outputs": [],
   "source": [
    "res2=[]\n",
    "\n",
    "sw = stopwords.words('english')\n",
    "\n",
    "#for each recipe\n",
    "for i,recipe in enumerate(recipes):\n",
    "    \n",
    "    res=[]\n",
    "    \n",
    "    #and each ingredient\n",
    "    for entity in tagged_entities[i].keys():\n",
    "        \n",
    "        #look for the information in brackets\n",
    "        pattern = re.compile(re.escape(entity) + r\"\\s*\\(.*?\\)\")\n",
    "        try:\n",
    "            \n",
    "            #expression found\n",
    "            quant = re.search(pattern, recipe).group()\n",
    "            res.append(quant)\n",
    "        \n",
    "        #tokenize and find the information preceding the entity\n",
    "        except:\n",
    "            \n",
    "            sent = ' '.join([w for w in recipe.split() if w not in sw])\n",
    "            tokenizer = TweetTokenizer()\n",
    "            wordlist = tokenizer.tokenize(sent)\n",
    "            for i,w in enumerate(wordlist):\n",
    "                if w in entities:\n",
    "                    \n",
    "                    #add the 3 words preceding the named entity\n",
    "                    res.append(' '.join([wordlist[i-3], wordlist[i-2], wordlist[i-1], wordlist[i]]))\n",
    "                    \n",
    "    res2.append(res)"
   ]
  },
  {
   "cell_type": "code",
   "execution_count": 42,
   "id": "featured-occasion",
   "metadata": {},
   "outputs": [
    {
     "data": {
      "text/plain": [
       "[['(5r,7as)‐5‐butyl‐1h,3h,5h,7ah‐pyrrolo[1,2‐c][1,3]oxazol‐3‐one (347 mg, 1.91 mmol)',\n",
       "  '4-methylmorpholine n-oxide (1.76 ml, 8.42 mmol)',\n",
       "  'h2o (2:1, 54 ml)',\n",
       "  'potassium osmate dihydrate (97.3 mg, 0.38 mmol)',\n",
       "  '1.91 mmol ) acetone',\n",
       "  ') acetone / h2o'],\n",
       " ['standard . solution h2ptcl6',\n",
       "  '2 ml dry toluene',\n",
       "  '0.5 mmol kh n2',\n",
       "  'purged 2 bar ammonia',\n",
       "  'pressurized 7 bar ammonia',\n",
       "  'cooled room temperature ammonia',\n",
       "  '1 ml dry methanol',\n",
       "  'monitor conversion gcms mesitylene',\n",
       "  'standard . solution h2ptcl6',\n",
       "  '2 ml dry toluene',\n",
       "  '0.5 mmol kh n2',\n",
       "  'purged 2 bar ammonia',\n",
       "  'pressurized 7 bar ammonia',\n",
       "  'cooled room temperature ammonia',\n",
       "  '1 ml dry methanol',\n",
       "  'monitor conversion gcms mesitylene',\n",
       "  'standard . solution h2ptcl6',\n",
       "  '2 ml dry toluene',\n",
       "  '0.5 mmol kh n2',\n",
       "  'purged 2 bar ammonia',\n",
       "  'pressurized 7 bar ammonia',\n",
       "  'cooled room temperature ammonia',\n",
       "  '1 ml dry methanol',\n",
       "  'monitor conversion gcms mesitylene',\n",
       "  'standard . solution h2ptcl6',\n",
       "  '2 ml dry toluene',\n",
       "  '0.5 mmol kh n2',\n",
       "  'purged 2 bar ammonia',\n",
       "  'pressurized 7 bar ammonia',\n",
       "  'cooled room temperature ammonia',\n",
       "  '1 ml dry methanol',\n",
       "  'monitor conversion gcms mesitylene',\n",
       "  'standard . solution h2ptcl6',\n",
       "  '2 ml dry toluene',\n",
       "  '0.5 mmol kh n2',\n",
       "  'purged 2 bar ammonia',\n",
       "  'pressurized 7 bar ammonia',\n",
       "  'cooled room temperature ammonia',\n",
       "  '1 ml dry methanol',\n",
       "  'monitor conversion gcms mesitylene',\n",
       "  'standard . solution h2ptcl6',\n",
       "  '2 ml dry toluene',\n",
       "  '0.5 mmol kh n2',\n",
       "  'purged 2 bar ammonia',\n",
       "  'pressurized 7 bar ammonia',\n",
       "  'cooled room temperature ammonia',\n",
       "  '1 ml dry methanol',\n",
       "  'monitor conversion gcms mesitylene',\n",
       "  'h2ptcl6 (0.01 mmol, 4.28 mg)'],\n",
       " ['dmso (20 ml, 99.8+%)',\n",
       "  '2-methylbenzaldehyde (1.23 g, 10.2 mmol, 2.5 equiv, 97%)',\n",
       "  'et2o (20 ml × 3)',\n",
       "  '(1s,2s)-1,2-bis(2-hydroxyphenyl)-1,2-diaminoethane (1.0 g, 4.1 mmol, 1.0 equiv, 97%)',\n",
       "  'nitrogen (three cycles)'],\n",
       " ['2 ) . dichloromethane',\n",
       "  'round-bottomed flask . benzylamine',\n",
       "  'dichloromethane (0.4 m)',\n",
       "  'benzylamine (1 equiv)',\n",
       "  'benzophenone imine (1 equiv)'],\n",
       " ['diethyl ether (300 ml)',\n",
       "  'thf (25 ml)',\n",
       "  'dichloromethane (100 ml)',\n",
       "  'pyridine (60 ml)',\n",
       "  'gd(otf)3·9h2o (500 mg; 0.65 mmol)',\n",
       "  'ybl·4h2o (200 mg; 0.22 mmol)',\n",
       "  'forms ) . pyridine',\n",
       "  '. product extracted dichloromethane',\n",
       "  ') . orange dichloromethane',\n",
       "  '. orange precipitate thf'],\n",
       " ['thf (500 ml)',\n",
       "  'methyl 3,3-dimethylpent-4-enoate (2, 142 g, 1.0 mol)',\n",
       "  'hydrochloric acid (1000 ml)',\n",
       "  'lithium aluminum hydride (38 g, 1 mol)'],\n",
       " ['thf (12 ml)', 'tbaf (1.0 m in thf, 0.7 ml, 0.70 mmol)'],\n",
       " ['thf (15 ml)',\n",
       "  'ethyl acetate (~5 ml)',\n",
       "  'silver hexafluorophosphate (0.276 g, 1.093 mmol)',\n",
       "  '30 dissolved dry thf',\n",
       "  'carrying filtration celite argon',\n",
       "  'glassware . addition triphenylphosphine',\n",
       "  'washed ethyl acetate hexanes',\n",
       "  '30 dissolved dry thf',\n",
       "  'carrying filtration celite argon',\n",
       "  'glassware . addition triphenylphosphine',\n",
       "  'washed ethyl acetate hexanes',\n",
       "  'triphenylphosphine (0.287 g, 1.093 mmol)',\n",
       "  '30 dissolved dry thf',\n",
       "  'carrying filtration celite argon',\n",
       "  'glassware . addition triphenylphosphine',\n",
       "  'washed ethyl acetate hexanes',\n",
       "  '30 dissolved dry thf',\n",
       "  'carrying filtration celite argon',\n",
       "  'glassware . addition triphenylphosphine',\n",
       "  'washed ethyl acetate hexanes',\n",
       "  'chloro(ƞ4–cycloocta–1,5–diene)(1,3-dimesitylimidazol-2-ylidene) iridium(i) (0.700 g, 1.093 mmol)'],\n",
       " ['thf (7.5 ml)',\n",
       "  '1,3-bis(2,6-di-iso-propylphenyl)-4,5-dimethylimidazolium chloride (0.340 g, 0.750 mmol)',\n",
       "  'flame-dried schlenk flask argon',\n",
       "  'atmosphere . dry thf',\n",
       "  'causing gradual dissolution imidazolium',\n",
       "  'dissolution imidazolium salt carbene',\n",
       "  'potassium tert-butoxide (0.101 g, 0.900 mmol)',\n",
       "  'flame-dried schlenk flask argon',\n",
       "  'atmosphere . dry thf',\n",
       "  'causing gradual dissolution imidazolium',\n",
       "  'dissolution imidazolium salt carbene'],\n",
       " [],\n",
       " [') . suspension nah',\n",
       "  'mineral oil ) thf',\n",
       "  ') thf / dmso',\n",
       "  'nah (2.12 g, 52.9 mmol, 1.20 equiv, 60% in mineral oil)',\n",
       "  'dmso (10:1, 150 ml)',\n",
       "  'ethylene glycol (7.40 ml, 132 mmol, 3.00 equiv)',\n",
       "  'tributyl(iodomethyl)stannane (19.0 g, 44.1 mmol, 1.00 equiv)']]"
      ]
     },
     "execution_count": 42,
     "metadata": {},
     "output_type": "execute_result"
    }
   ],
   "source": [
    "res2"
   ]
  },
  {
   "cell_type": "markdown",
   "id": "enclosed-submission",
   "metadata": {},
   "source": [
    "## Question 3. Type of addition: in portions or continuous?"
   ]
  },
  {
   "cell_type": "code",
   "execution_count": 28,
   "id": "forbidden-barrel",
   "metadata": {},
   "outputs": [],
   "source": [
    "#Look for diagnostic phrases that inform us about the type of addition (identified in the data)\n",
    "#These will be stored in a text file so that the users of the code can edit these expressions any time\n",
    "\n",
    "os.chdir(code)\n",
    "\n",
    "with open('continuous_addition.txt', 'r+') as f:\n",
    "    cont = f.readlines()  \n",
    "    cont = [re.sub('\\n', '', c.lower()) for c in cont]\n",
    "    \n",
    "with open('addition_in_portion.txt', 'r+') as f:\n",
    "    por = f.readlines()  \n",
    "    por = [re.sub('\\n', '', p.lower()) for p in por]"
   ]
  },
  {
   "cell_type": "code",
   "execution_count": 29,
   "id": "visible-moldova",
   "metadata": {},
   "outputs": [],
   "source": [
    "res3 = []\n",
    "\n",
    "for i,recipe in enumerate(recipes):\n",
    "    \n",
    "    if any(c in recipe for c in cont) and any(p in recipe for p in por):\n",
    "        res3.append('Type of addition: Mention of both continuous and in-portion addition')\n",
    "        \n",
    "    elif any(c in recipe for c in cont):\n",
    "        res3.append('Type of addition: Continuous')\n",
    "        \n",
    "    elif any(p in recipe for p in por):\n",
    "        res3.append('Type of addition: Addition in portions')\n",
    "        \n",
    "    else:\n",
    "        res3.append('Type of addition: Unknown')\n",
    "    "
   ]
  },
  {
   "cell_type": "code",
   "execution_count": 30,
   "id": "cooperative-trailer",
   "metadata": {},
   "outputs": [
    {
     "data": {
      "text/plain": [
       "['Type of addition: Unknown',\n",
       " 'Type of addition: Unknown',\n",
       " 'Type of addition: Continuous',\n",
       " 'Type of addition: Unknown',\n",
       " 'Type of addition: Unknown',\n",
       " 'Type of addition: Continuous',\n",
       " 'Type of addition: Unknown',\n",
       " 'Type of addition: Unknown',\n",
       " 'Type of addition: Mention of both continuous and in-portion addition',\n",
       " 'Type of addition: Unknown',\n",
       " 'Type of addition: Continuous']"
      ]
     },
     "execution_count": 30,
     "metadata": {},
     "output_type": "execute_result"
    }
   ],
   "source": [
    "res3"
   ]
  },
  {
   "cell_type": "markdown",
   "id": "toxic-lying",
   "metadata": {},
   "source": [
    "## Save results"
   ]
  },
  {
   "cell_type": "code",
   "execution_count": 122,
   "id": "provincial-collaboration",
   "metadata": {},
   "outputs": [],
   "source": [
    "results = []\n",
    "\n",
    "for i in range(len(doc)):\n",
    "    \n",
    "    res=[]\n",
    "    \n",
    "    res.append('Recipe ' + str(i+1))\n",
    "    res.append('Text: ' + doc[i].text)\n",
    "    res.append('Ingredients: ')\n",
    "    res.extend([str(a[0]) + ', ' + str(a[1]) for a in res1[i].items()])\n",
    "    res.append('Quantities: ')\n",
    "    res.extend([str(a) for a in res2[i]])\n",
    "    res.append(str(res3[i]))\n",
    "    \n",
    "    results.append(res)\n",
    "    \n"
   ]
  },
  {
   "cell_type": "code",
   "execution_count": 124,
   "id": "pretty-holder",
   "metadata": {},
   "outputs": [],
   "source": [
    "os.chdir(preproc)\n",
    "\n",
    "with open('Recipes_preprocessed.json', 'w', encoding='utf-8') as f:\n",
    "    json.dump(results, f, ensure_ascii=False, indent=4)"
   ]
  },
  {
   "cell_type": "code",
   "execution_count": null,
   "id": "shared-financing",
   "metadata": {},
   "outputs": [],
   "source": []
  }
 ],
 "metadata": {
  "kernelspec": {
   "display_name": "Python 3",
   "language": "python",
   "name": "python3"
  },
  "language_info": {
   "codemirror_mode": {
    "name": "ipython",
    "version": 3
   },
   "file_extension": ".py",
   "mimetype": "text/x-python",
   "name": "python",
   "nbconvert_exporter": "python",
   "pygments_lexer": "ipython3",
   "version": "3.8.8"
  }
 },
 "nbformat": 4,
 "nbformat_minor": 5
}
