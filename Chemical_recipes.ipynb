{
 "cells": [
  {
   "cell_type": "code",
   "execution_count": 1,
   "id": "falling-magazine",
   "metadata": {},
   "outputs": [],
   "source": [
    "import pandas as pd\n",
    "import numpy as np\n",
    "import os\n",
    "import chemdataextractor\n",
    "from chemdataextractor import Document\n",
    "import spacy\n",
    "from spacy.tokens import DocBin\n",
    "from spacy import displacy\n",
    "import re"
   ]
  },
  {
   "cell_type": "code",
   "execution_count": 2,
   "id": "julian-ethiopia",
   "metadata": {},
   "outputs": [],
   "source": [
    "main = '/Users/Viktoria/Desktop/Chemicals'\n",
    "os.chdir(main)"
   ]
  },
  {
   "cell_type": "code",
   "execution_count": 3,
   "id": "disciplinary-martin",
   "metadata": {},
   "outputs": [],
   "source": [
    "f = open('exercise_experimentals.txt', 'rb')\n",
    "doc = Document.from_file(f)"
   ]
  },
  {
   "cell_type": "code",
   "execution_count": 4,
   "id": "labeled-relevance",
   "metadata": {},
   "outputs": [
    {
     "name": "stdout",
     "output_type": "stream",
     "text": [
      "11   <class 'chemdataextractor.doc.document.Document'>\n"
     ]
    }
   ],
   "source": [
    "print(len(doc), ' ', type(doc))"
   ]
  },
  {
   "cell_type": "markdown",
   "id": "posted-melbourne",
   "metadata": {},
   "source": [
    "## Question 1. What was added to what?"
   ]
  },
  {
   "cell_type": "markdown",
   "id": "under-marriage",
   "metadata": {},
   "source": [
    "### Step 1. Get the sentences of the text up until the last occurrence of addition. <br> Step 2. Get the named entities that stand for the ingredients. <br> Step 3. Get the syntactic position of the ingredients to find out 'what was added to what'. In 'X added to Y' X is the subject, Y is the object. "
   ]
  },
  {
   "cell_type": "code",
   "execution_count": 5,
   "id": "regulation-movie",
   "metadata": {},
   "outputs": [],
   "source": [
    "#Create a list of strings (recipes) which contains the texts of each recipe up until the last occurrence of the phrase that contains the addition\n",
    "\n",
    "recipes=[]\n",
    "\n",
    "for i in range(0, len(doc)):\n",
    "    \n",
    "    paragraph=[]\n",
    "    tracker=[]\n",
    "    \n",
    "    for sentence in doc[i].sentences:\n",
    "        text=str(sentence).lower()\n",
    "        paragraph.append(text)\n",
    "        \n",
    "        #check if the addition phrase is present\n",
    "        if 'add' in text or 'addition' in text:\n",
    "            tracker.append(1)\n",
    "        else:\n",
    "            tracker.append(0)\n",
    "            \n",
    "    #consider the text until the last occurrence of the 'add' phrase\n",
    "    paragraph = paragraph[0:np.max(np.nonzero(tracker))+1]    \n",
    "    paragraph = ' '.join([p for p in paragraph])\n",
    "    recipes.append(paragraph)"
   ]
  },
  {
   "cell_type": "code",
   "execution_count": 6,
   "id": "generous-stewart",
   "metadata": {},
   "outputs": [
    {
     "data": {
      "text/plain": [
       "['4-methylmorpholine n-oxide (1.76 ml, 8.42 mmol) and potassium osmate dihydrate (97.3 mg, 0.38 mmol) were added to a solution of (5r,7as)‐5‐butyl‐1h,3h,5h,7ah‐pyrrolo[1,2‐c][1,3]oxazol‐3‐one (347 mg, 1.91 mmol) in acetone/h2o (2:1, 54 ml).',\n",
       " 'to a solution of h2ptcl6 (0.01 mmol, 4.28 mg) in 2 ml dry toluene in a 100 ml fisher porter tube was added 0.5 mmol of benzyl alcohol and 0.5 mmol of kh under n2 atmosphere. the tube was closed and was taken out from the glovebox and purged with 2 bar of ammonia for 3 times and finally pressurized with 7 bar of ammonia. the reaction mixture was stirred at 150°c for 24h, cooled down to room temperature and the ammonia pressure was released in the hood. 1 ml dry methanol was added to dissolve the precipitate and monitor the conversion in gcms with mesitylene as an internal standard.',\n",
       " 'an oven-dried, 100-ml, two-necked, round-bottomed flask equipped with a magnetic stir bar (13 × 9 mm, octagon-type), a rubber septum, and a nitrogen line is evacuated under high vacuum (1.0 mmhg) and filled with nitrogen (three cycles). (1s,2s)-1,2-bis(2-hydroxyphenyl)-1,2-diaminoethane (1.0 g, 4.1 mmol, 1.0 equiv, 97%) is added through the open neck under a positive pressure of nitrogen. the open neck is capped with a rubber septum, and then anhydrous dmso (20 ml, 99.8+%) and 2-methylbenzaldehyde (1.23 g, 10.2 mmol, 2.5 equiv, 97%) are added into the flask by syringe through the rubber septum. after the yellow solution is stirred for 14 h at 20 °c, the reaction is quenched by the addition of distilled water (100 ml), and the mixture is extracted with et2o (20 ml × 3).',\n",
       " 'dichloromethane (0.4 m) is added to a round-bottomed flask. the benzylamine (1 equiv) and benzophenone imine (1 equiv) are then added and the flask is fitted with a drying tube (cacl2).',\n",
       " 'to a pyridine (60 ml) solution of gd(otf)3·9h2o (500 mg; 0.65 mmol) ybl·4h2o (200 mg; 0.22 mmol) is added. when a clear orange solution has formed, the solution is heated to boiling and refluxed for 3 hours. after being refluxed the solution is cooled to room temperature and then poured into diethyl ether (300 ml) which is vigorously stirred. this produces a fine orange precipitate which is isolated, washed twice with diethyl ether (2 x 100 ml) and then dried. the product is then extracted with dichloromethane (100 ml). the orange dichloromethane solution is filtered and evaporated to dryness. to the orange precipitate thf (25 ml) is added and the mixture is stirred overnight (in some cases all the precipitate dissolves at first, but overnight a pale yellow precipitate forms).',\n",
       " 'to the cooled (0 ℃) solution of methyl 3,3-dimethylpent-4-enoate (2, 142 g, 1.0 mol) in dry thf (500 ml) was slowly added lithium aluminum hydride (38 g, 1 mol). the reaction was allowed to warm to room temperature and stirred for additional 30 min. after completion of the reaction, the reaction was cooled and then 4 m hydrochloric acid (1000 ml) was added dropwise until the reaction was clear solution.',\n",
       " 'a stirred solution of rac-17a1 (330 mg, 0.64 mmol) in thf (12 ml) was added tbaf (1.0 m in thf, 0.7 ml, 0.70 mmol) at 0 oc.',\n",
       " 'the yellow complex, chloro(ƞ4–cycloocta–1,5–diene)(1,3-dimesitylimidazol-2-ylidene) iridium(i) (0.700 g, 1.093 mmol),30 was dissolved in dry thf (15 ml) in a previously flame-dried roundbottom flask, fitted with a stopcock sidearm. after all the solids had dissolved, silver hexafluorophosphate (0.276 g, 1.093 mmol) was added, affording a yellow to opaque orange color s23 change on formation of silver chloride precipitate. the reaction mixture was stirred for 15 min at r.t. before carrying out filtration through celite under argon, using flame-dried glassware. addition of triphenylphosphine (0.287 g, 1.093 mmol) to the resulting clear orange solution led to the immediate appearance of a bright red color. finally, after stirring the solution for 1 h at r.t., the solvent was removed under reduced pressure. the red residue was redissolved in dcm (10 ml) and filtered through celite in air, washing out any red material from the celite with dcm. the clear red filtrate was concentrate in vacuo to reveal a red, oily solid. addition of ethyl acetate (~5 ml) resulted in the precipitation of the product as bright red solid, which was collected by filtration, then washed with ethyl acetate and hexanes and dried (0.885 g, 80%).',\n",
       " '1,3-bis(2,6-di-iso-propylphenyl)-4,5-dimethylimidazolium chloride (0.340 g, 0.750 mmol) was added to a flame-dried schlenk flask under an argon atmosphere. dry thf (7.5 ml) was added with stirring, forming a slurry. fresh potassium tert-butoxide (0.101 g, 0.900 mmol) was added to the flask in a single portion, causing gradual dissolution of the imidazolium salt and carbene formation. stirring was continued at r.t. for 30 min before the addition of [ir(cod)cl]2.',\n",
       " 'to a flame dried two necked round bottom flask, equipped with a stopcock, was added 4b (189 mg, 0.500 mmol, 1 eq.) and the iridium(i) catalyst (0.00325 mmol, 6.5 mol%). to this was added dcm (14.0 ml) and the solution cooled to 0 °c.',\n",
       " 'a suspension of nah (2.12 g, 52.9 mmol, 1.20 equiv, 60% in mineral oil) in thf/dmso (10:1, 150 ml) was cooled to 0 °c followed by the dropwise addition of ethylene glycol (7.40 ml, 132 mmol, 3.00 equiv). the suspension was allowed to warm to room temperature. after 1 h, the mixture was cooled to 0 °c followed by the dropwise addition of tributyl(iodomethyl)stannane (19.0 g, 44.1 mmol, 1.00 equiv).']"
      ]
     },
     "execution_count": 6,
     "metadata": {},
     "output_type": "execute_result"
    }
   ],
   "source": [
    "recipes"
   ]
  },
  {
   "cell_type": "code",
   "execution_count": 7,
   "id": "persistent-causing",
   "metadata": {},
   "outputs": [],
   "source": [
    "#Get a list of all the chemical elements in each recipe\n",
    "\n",
    "entities=[]\n",
    "for i in range(len(doc.cems)):\n",
    "    entities.append(str(doc.cems[i]).lower())"
   ]
  },
  {
   "cell_type": "code",
   "execution_count": 8,
   "id": "western-harvest",
   "metadata": {},
   "outputs": [],
   "source": [
    "# Create dictionaries for each recipe (indices) with the name of the entity, starting position, ending position. \n",
    "# These dictionaries will be passed to spacy to get the syntax of the sentences.\n",
    "\n",
    "tagged_entities = []\n",
    "\n",
    "for recipe in recipes:\n",
    "    \n",
    "    indices={}\n",
    "    \n",
    "    #check which entities appear in the text\n",
    "    for entity in entities:\n",
    "        \n",
    "        #look for the entity \n",
    "        if entity in recipe:\n",
    "            \n",
    "            #get the start & end position and add it to the dict\n",
    "            start = recipe.index(entity)\n",
    "            end = recipe.index(entity)+len(entity)\n",
    "            indices[entity]=start, end\n",
    "            \n",
    "    #only match the full chemical name, not if the word 'h2o' is contained in a longer name\n",
    "    keys = list(indices.keys())\n",
    "    for word in keys: \n",
    "        if sum(word in k for k in keys) > 1: #more than 1 occurrences \n",
    "            indices.pop(word) #pop the short word that is contained by other words\n",
    "    \n",
    "    \n",
    "    tagged_entities.append(indices)"
   ]
  },
  {
   "cell_type": "code",
   "execution_count": 9,
   "id": "sound-wonder",
   "metadata": {},
   "outputs": [
    {
     "data": {
      "text/plain": [
       "[{'(5r,7as)‐5‐butyl‐1h,3h,5h,7ah‐pyrrolo[1,2‐c][1,3]oxazol‐3‐one': (128, 189),\n",
       "  'potassium osmate dihydrate': (52, 78),\n",
       "  'h2o': (221, 224),\n",
       "  'acetone': (213, 220),\n",
       "  '4-methylmorpholine n-oxide': (0, 26)},\n",
       " {'ammonia': (255, 262),\n",
       "  'toluene': (58, 65),\n",
       "  'n2': (159, 161),\n",
       "  'benzyl alcohol': (119, 133),\n",
       "  'methanol': (465, 473),\n",
       "  'mesitylene': (552, 562),\n",
       "  'h2ptcl6': (17, 24)},\n",
       " {'dmso': (457, 461),\n",
       "  'nitrogen': (140, 148),\n",
       "  'et2o': (762, 766),\n",
       "  '(1s,2s)-1,2-bis(2-hydroxyphenyl)-1,2-diaminoethane': (237, 287),\n",
       "  '2-methylbenzaldehyde': (482, 502)},\n",
       " {'dichloromethane': (0, 15),\n",
       "  'benzylamine': (64, 75),\n",
       "  'cacl2': (178, 183),\n",
       "  'benzophenone imine': (90, 108)},\n",
       " {'gd(otf)3·9h2o': (34, 47),\n",
       "  'yellow precipitate': (761, 779),\n",
       "  'thf': (627, 630),\n",
       "  'dichloromethane': (500, 515),\n",
       "  'diethyl ether': (293, 306),\n",
       "  'pyridine': (5, 13),\n",
       "  'ybl·4h2o': (68, 76)},\n",
       " {'thf': (92, 95),\n",
       "  'hydrochloric acid': (321, 338),\n",
       "  'lithium aluminum hydride': (122, 146),\n",
       "  'methyl 3,3-dimethylpent-4-enoate': (32, 64)},\n",
       " {'thf': (54, 57), 'tbaf': (76, 80)},\n",
       " {'hexanes': (1200, 1207),\n",
       "  'thf': (141, 144),\n",
       "  'bright red': (695, 705),\n",
       "  'ethyl acetate': (1042, 1055),\n",
       "  'silver chloride precipitate': (397, 424),\n",
       "  'argon': (530, 535),\n",
       "  'chloro(ƞ4–cycloocta–1,5–diene)(1,3-dimesitylimidazol-2-ylidene) iridium(i)': (20,\n",
       "   94),\n",
       "  'triphenylphosphine': (578, 596),\n",
       "  'silver hexafluorophosphate': (268, 294)},\n",
       " {'carbene': (368, 375),\n",
       "  'thf': (160, 163),\n",
       "  'argon': (138, 143),\n",
       "  '1,3-bis(2,6-di-iso-propylphenyl)-4,5-dimethylimidazolium chloride': (0, 65),\n",
       "  'potassium tert-butoxide': (222, 245)},\n",
       " {'iridium(i)': (123, 133)},\n",
       " {'dmso': (79, 83),\n",
       "  'thf': (75, 78),\n",
       "  'nah': (16, 19),\n",
       "  'ethylene glycol': (155, 170),\n",
       "  'tributyl(iodomethyl)stannane': (339, 367)}]"
      ]
     },
     "execution_count": 9,
     "metadata": {},
     "output_type": "execute_result"
    }
   ],
   "source": [
    "tagged_entities"
   ]
  },
  {
   "cell_type": "code",
   "execution_count": 10,
   "id": "academic-psychology",
   "metadata": {},
   "outputs": [],
   "source": [
    "# Add the named entities to spacy, then get the information which one was the subject and which one the object of the sentence\n",
    "\n",
    "nlp = spacy.load(\"en_core_web_sm\") # load a new spacy model\n",
    "\n",
    "db = DocBin() # create a DocBin object\n",
    "corpora = []\n",
    "\n",
    "for i,v in enumerate(recipes):\n",
    "\n",
    "    indices=tagged_entities[i]\n",
    "\n",
    "    spacy_doc = nlp(recipes[i]) # create doc object from text\n",
    "    ents = []\n",
    "    \n",
    "    for key,value in indices.items(): # add character indexes\n",
    "        span = spacy_doc.char_span(value[0], value[1], label=key, alignment_mode=\"expand\")\n",
    "        \n",
    "        if span is None:\n",
    "            print('none')\n",
    "        else:\n",
    "            ents.append(span)\n",
    "          \n",
    "    spacy_doc.ents = ents # label the text with the ents\n",
    "    db.add(spacy_doc)\n",
    "    \n",
    "    corpora.append(spacy_doc)"
   ]
  },
  {
   "cell_type": "code",
   "execution_count": 11,
   "id": "sized-potter",
   "metadata": {},
   "outputs": [],
   "source": [
    "#Check on a single recipe if the tyagging process was successful\n",
    "\n",
    "#spacy_doc.has_annotation(\"TAG\") #gives True"
   ]
  },
  {
   "cell_type": "code",
   "execution_count": 12,
   "id": "straight-communication",
   "metadata": {},
   "outputs": [],
   "source": [
    "#Visualise the sentence structure of a single recipe\n",
    "\n",
    "#displacy.render(spacy_doc, style=\"dep\")"
   ]
  },
  {
   "cell_type": "code",
   "execution_count": 15,
   "id": "parental-details",
   "metadata": {},
   "outputs": [
    {
     "name": "stdout",
     "output_type": "stream",
     "text": [
      "4 nummod\n",
      "- punct\n",
      "methylmorpholine nmod\n",
      "n cc\n",
      "- punct\n",
      "oxide nsubjpass\n",
      "( punct\n",
      "1.76 nummod\n",
      "ml appos\n",
      ", punct\n",
      "8.42 nummod\n",
      "mmol appos\n",
      ") punct\n",
      "and cc\n",
      "potassium compound\n",
      "osmate compound\n",
      "dihydrate conj\n",
      "( punct\n",
      "97.3 nummod\n",
      "mg appos\n",
      ", punct\n",
      "0.38 nummod\n",
      "mmol npadvmod\n",
      ") punct\n",
      "were auxpass\n",
      "added ROOT\n",
      "to prep\n",
      "a det\n",
      "solution pobj\n",
      "of prep\n",
      "( punct\n",
      "5r,7as)‐5‐butyl‐1h,3h,5h,7ah‐pyrrolo[1,2‐c][1,3]oxazol‐3‐one pobj\n",
      "( punct\n",
      "347 appos\n",
      "mg conj\n",
      ", punct\n",
      "1.91 nummod\n",
      "mmol appos\n",
      ") punct\n",
      "in prep\n",
      "acetone pobj\n",
      "/ punct\n",
      "h2o punct\n",
      "( punct\n",
      "2:1 ROOT\n",
      ", punct\n",
      "54 nummod\n",
      "ml appos\n",
      ") punct\n",
      ". punct\n"
     ]
    }
   ],
   "source": [
    "# Now find out whether the ingredient in the recipe was a subject or an object\n",
    "# X added to Y -> X is the subject, Y is the object\n",
    "\n",
    "for token in corpora[0]:\n",
    "    \n",
    "    print(token.text, token.dep_)"
   ]
  },
  {
   "cell_type": "code",
   "execution_count": null,
   "id": "suburban-performer",
   "metadata": {},
   "outputs": [],
   "source": [
    "ingredients = {}\n",
    "\n",
    "for token in corpora[0]:\n",
    "    \n",
    "    if [token.text in k for k in tagged_entities[0].keys()]:\n",
    "        if 'subj' in token.dep_ or 'obj' in token.dep_:\n",
    "        \n",
    "            ingredients[token.text] = token.dep_\n",
    "    \n",
    "            "
   ]
  },
  {
   "cell_type": "code",
   "execution_count": null,
   "id": "cosmetic-flavor",
   "metadata": {},
   "outputs": [],
   "source": [
    "for i in list(ingredients.keys()):\n",
    "    for k in list(tagged_entities[0]):\n",
    "        if i in k:\n",
    "            ingredients[k] = ingredients.pop(i)"
   ]
  },
  {
   "cell_type": "code",
   "execution_count": null,
   "id": "optical-parameter",
   "metadata": {},
   "outputs": [],
   "source": [
    "ingredients\n",
    "    "
   ]
  },
  {
   "cell_type": "code",
   "execution_count": null,
   "id": "micro-dietary",
   "metadata": {},
   "outputs": [],
   "source": []
  },
  {
   "cell_type": "code",
   "execution_count": null,
   "id": "solid-cartridge",
   "metadata": {},
   "outputs": [],
   "source": [
    "tagged_entities[0]"
   ]
  },
  {
   "cell_type": "code",
   "execution_count": null,
   "id": "alike-arrangement",
   "metadata": {},
   "outputs": [],
   "source": []
  }
 ],
 "metadata": {
  "kernelspec": {
   "display_name": "Python 3",
   "language": "python",
   "name": "python3"
  },
  "language_info": {
   "codemirror_mode": {
    "name": "ipython",
    "version": 3
   },
   "file_extension": ".py",
   "mimetype": "text/x-python",
   "name": "python",
   "nbconvert_exporter": "python",
   "pygments_lexer": "ipython3",
   "version": "3.8.8"
  }
 },
 "nbformat": 4,
 "nbformat_minor": 5
}
