{
 "cells": [
  {
   "cell_type": "markdown",
   "id": "instrumental-school",
   "metadata": {},
   "source": [
    "# CheMastery: Identify information in chemical recipes"
   ]
  },
  {
   "cell_type": "code",
   "execution_count": 1,
   "id": "falling-magazine",
   "metadata": {},
   "outputs": [],
   "source": [
    "import pandas as pd\n",
    "import numpy as np\n",
    "import os\n",
    "import chemdataextractor\n",
    "from chemdataextractor import Document\n",
    "import spacy\n",
    "from spacy.tokens import DocBin\n",
    "from spacy import displacy\n",
    "import re"
   ]
  },
  {
   "cell_type": "code",
   "execution_count": 2,
   "id": "julian-ethiopia",
   "metadata": {},
   "outputs": [],
   "source": [
    "main = '/Users/Viktoria/Desktop/Chemicals'\n",
    "os.chdir(main)"
   ]
  },
  {
   "cell_type": "code",
   "execution_count": 3,
   "id": "disciplinary-martin",
   "metadata": {},
   "outputs": [],
   "source": [
    "f = open('exercise_experimentals.txt', 'rb')\n",
    "doc = Document.from_file(f)"
   ]
  },
  {
   "cell_type": "code",
   "execution_count": 4,
   "id": "labeled-relevance",
   "metadata": {},
   "outputs": [
    {
     "name": "stdout",
     "output_type": "stream",
     "text": [
      "11   <class 'chemdataextractor.doc.document.Document'>\n"
     ]
    }
   ],
   "source": [
    "print(len(doc), ' ', type(doc))"
   ]
  },
  {
   "cell_type": "markdown",
   "id": "posted-melbourne",
   "metadata": {},
   "source": [
    "## Question 1. What was added to what?"
   ]
  },
  {
   "cell_type": "markdown",
   "id": "under-marriage",
   "metadata": {},
   "source": [
    "### Step 1. Get the sentences of the text up until the last occurrence of addition. <br> Step 2. Get the named entities that stand for the ingredients. <br> Step 3. Get the syntactic position of the ingredients to find out 'what was added to what'. In 'X added to Y' X is the subject, Y is the object. "
   ]
  },
  {
   "cell_type": "code",
   "execution_count": 5,
   "id": "regulation-movie",
   "metadata": {},
   "outputs": [],
   "source": [
    "#Create a list of strings (recipes) which contains the texts of each recipe up until the last occurrence of the phrase that contains the addition\n",
    "\n",
    "recipes=[]\n",
    "\n",
    "for i in range(0, len(doc)):\n",
    "    \n",
    "    paragraph=[]\n",
    "    tracker=[]\n",
    "    \n",
    "    for sentence in doc[i].sentences:\n",
    "        text=str(sentence).lower()\n",
    "        paragraph.append(text)\n",
    "        \n",
    "        #check if the addition phrase is present\n",
    "        if 'add' in text or 'addition' in text:\n",
    "            tracker.append(1)\n",
    "        else:\n",
    "            tracker.append(0)\n",
    "            \n",
    "    #consider the text until the last occurrence of the 'add' phrase\n",
    "    paragraph = paragraph[0:np.max(np.nonzero(tracker))+1]    \n",
    "    paragraph = ' '.join([p for p in paragraph])\n",
    "    recipes.append(paragraph)"
   ]
  },
  {
   "cell_type": "code",
   "execution_count": 6,
   "id": "persistent-causing",
   "metadata": {},
   "outputs": [],
   "source": [
    "#Get a list of all the chemical elements in each recipe\n",
    "\n",
    "entities=[]\n",
    "for i in range(len(doc.cems)):\n",
    "    entities.append(str(doc.cems[i]).lower())"
   ]
  },
  {
   "cell_type": "code",
   "execution_count": 19,
   "id": "western-harvest",
   "metadata": {},
   "outputs": [],
   "source": [
    "# Create dictionaries for each recipe (indices) with the name of the entity, starting position, ending position. \n",
    "# These dictionaries will be passed to spacy to get the syntax of the sentences.\n",
    "\n",
    "tagged_entities = []\n",
    "\n",
    "for recipe in recipes:\n",
    "    \n",
    "    indices={}\n",
    "    \n",
    "    #check which entities appear in the text\n",
    "    for entity in entities:\n",
    "        \n",
    "        #look for the entity \n",
    "        if entity in recipe:\n",
    "            \n",
    "            #get the start & end position and add it to the dict\n",
    "            start = recipe.index(entity)\n",
    "            end = recipe.index(entity)+len(entity)\n",
    "            indices[entity]=start, end\n",
    "            \n",
    "    #only match the full chemical name, not if e.g. the word 'h2o' is contained in a longer name\n",
    "    keys = list(indices.keys())\n",
    "    for word in keys: \n",
    "        if sum(word in k for k in keys) > 1: #more than 1 occurrences \n",
    "            indices.pop(word) #pop the short word that is contained by other words\n",
    "    \n",
    "    \n",
    "    tagged_entities.append(indices)"
   ]
  },
  {
   "cell_type": "code",
   "execution_count": 20,
   "id": "academic-psychology",
   "metadata": {},
   "outputs": [],
   "source": [
    "# Add the named entities to spacy, then get the information which one was the subject and which one the object of the sentence\n",
    "\n",
    "nlp = spacy.load(\"en_core_web_sm\") # load a new spacy model\n",
    "\n",
    "db = DocBin() # create a DocBin object\n",
    "corpora = []\n",
    "\n",
    "for i,v in enumerate(recipes):\n",
    "\n",
    "    indices=tagged_entities[i]\n",
    "\n",
    "    spacy_doc = nlp(recipes[i]) # create doc object from text\n",
    "    ents = []\n",
    "    \n",
    "    for (key,value) in indices.items(): # add character indexes\n",
    "        span = spacy_doc.char_span(value[0], value[1], label=key, alignment_mode=\"expand\")\n",
    "        \n",
    "        if span is None:\n",
    "            print('none')\n",
    "        else:\n",
    "            ents.append(span)\n",
    "          \n",
    "    spacy_doc.ents = ents # label the text with the ents\n",
    "    db.add(spacy_doc)\n",
    "    \n",
    "    corpora.append(spacy_doc)"
   ]
  },
  {
   "cell_type": "code",
   "execution_count": 21,
   "id": "sized-potter",
   "metadata": {},
   "outputs": [],
   "source": [
    "#Check on a single recipe if the tyagging process was successful\n",
    "\n",
    "#spacy_doc.has_annotation(\"TAG\") #gives True"
   ]
  },
  {
   "cell_type": "code",
   "execution_count": 22,
   "id": "straight-communication",
   "metadata": {},
   "outputs": [],
   "source": [
    "#Visualise the sentence structure of a single recipe\n",
    "\n",
    "#displacy.render(spacy_doc, style=\"dep\")"
   ]
  },
  {
   "cell_type": "code",
   "execution_count": 23,
   "id": "parental-details",
   "metadata": {},
   "outputs": [],
   "source": [
    "# Now find out whether the ingredient in the recipe was a subject or an object\n",
    "# X added to Y -> X is the subject, Y is the object\n",
    "\n",
    "for c in range(len(corpora)):\n",
    "\n",
    "    ingredients={}\n",
    "    indices = tagged_entities[c]\n",
    "\n",
    "    #get the name and the syntactic position\n",
    "    for token in corpora[c]:\n",
    "    \n",
    "        if 'subj' in token.dep_ or 'obj' in token.dep_:\n",
    "     \n",
    "            #if this is a chemical entity we are interested in\n",
    "            for k in indices.keys():\n",
    "                if token.text in k:\n",
    "                  \n",
    "                    #add the syntactic information\n",
    "                    indices[k] = token.dep_\n"
   ]
  },
  {
   "cell_type": "code",
   "execution_count": 25,
   "id": "communist-concert",
   "metadata": {},
   "outputs": [],
   "source": [
    "indices=tagged_entities[0]"
   ]
  },
  {
   "cell_type": "code",
   "execution_count": 26,
   "id": "alike-arrangement",
   "metadata": {},
   "outputs": [],
   "source": [
    "#In a structure \"X added to Y\", X is the subject of addition, i.e. the chemical being added & Y is object, i.e. the recipient\n",
    "\n",
    "def clean_results(value):\n",
    "    \n",
    "    if 'subj' in value:\n",
    "        value = 'added to mixture'\n",
    "    elif 'obj' in value:\n",
    "        value = 'recipient'\n",
    "    else:\n",
    "        value = 'order of addition unknown'\n",
    "        \n",
    "    return value"
   ]
  },
  {
   "cell_type": "code",
   "execution_count": 31,
   "id": "contained-threat",
   "metadata": {},
   "outputs": [],
   "source": [
    "results=[]\n",
    "for i in tagged_entities:\n",
    "    ingredients = {key:clean_results(value) for (key,value) in i.items()}\n",
    "    results.append(ingredients)"
   ]
  },
  {
   "cell_type": "code",
   "execution_count": 32,
   "id": "paperback-tablet",
   "metadata": {},
   "outputs": [
    {
     "data": {
      "text/plain": [
       "[{'(5r,7as)‐5‐butyl‐1h,3h,5h,7ah‐pyrrolo[1,2‐c][1,3]oxazol‐3‐one': 'recipient',\n",
       "  'h2o': 'order of addition unknown',\n",
       "  '4-methylmorpholine n-oxide': 'added to mixture',\n",
       "  'potassium osmate dihydrate': 'order of addition unknown',\n",
       "  'acetone': 'recipient'},\n",
       " {'n2': 'order of addition unknown',\n",
       "  'mesitylene': 'recipient',\n",
       "  'toluene': 'recipient',\n",
       "  'ammonia': 'recipient',\n",
       "  'methanol': 'added to mixture',\n",
       "  'benzyl alcohol': 'recipient',\n",
       "  'h2ptcl6': 'recipient'},\n",
       " {'nitrogen': 'recipient',\n",
       "  'dmso': 'order of addition unknown',\n",
       "  'et2o': 'recipient',\n",
       "  '2-methylbenzaldehyde': 'recipient',\n",
       "  '(1s,2s)-1,2-bis(2-hydroxyphenyl)-1,2-diaminoethane': 'recipient'},\n",
       " {'dichloromethane': 'added to mixture',\n",
       "  'benzylamine': 'added to mixture',\n",
       "  'benzophenone imine': 'order of addition unknown',\n",
       "  'cacl2': 'order of addition unknown'},\n",
       " {'yellow precipitate': 'recipient',\n",
       "  'diethyl ether': 'recipient',\n",
       "  'dichloromethane': 'recipient',\n",
       "  'thf': 'recipient',\n",
       "  'ybl·4h2o': 'recipient',\n",
       "  'gd(otf)3·9h2o': 'recipient',\n",
       "  'pyridine': 'recipient'},\n",
       " {'hydrochloric acid': 'added to mixture',\n",
       "  'methyl 3,3-dimethylpent-4-enoate': 'recipient',\n",
       "  'thf': 'recipient',\n",
       "  'lithium aluminum hydride': 'recipient'},\n",
       " {'tbaf': 'order of addition unknown', 'thf': 'recipient'},\n",
       " {'ethyl acetate': 'recipient',\n",
       "  'hexanes': 'recipient',\n",
       "  'bright red': 'recipient',\n",
       "  'thf': 'recipient',\n",
       "  'argon': 'recipient',\n",
       "  'silver chloride precipitate': 'recipient',\n",
       "  'silver hexafluorophosphate': 'recipient',\n",
       "  'triphenylphosphine': 'recipient',\n",
       "  'chloro(ƞ4–cycloocta–1,5–diene)(1,3-dimesitylimidazol-2-ylidene) iridium(i)': 'recipient'},\n",
       " {'potassium tert-butoxide': 'added to mixture',\n",
       "  'thf': 'added to mixture',\n",
       "  'carbene': 'order of addition unknown',\n",
       "  '1,3-bis(2,6-di-iso-propylphenyl)-4,5-dimethylimidazolium chloride': 'added to mixture',\n",
       "  'argon': 'order of addition unknown'},\n",
       " {'iridium(i)': 'order of addition unknown'},\n",
       " {'dmso': 'recipient',\n",
       "  'nah': 'recipient',\n",
       "  'thf': 'recipient',\n",
       "  'ethylene glycol': 'recipient',\n",
       "  'tributyl(iodomethyl)stannane': 'recipient'}]"
      ]
     },
     "execution_count": 32,
     "metadata": {},
     "output_type": "execute_result"
    }
   ],
   "source": [
    "results"
   ]
  },
  {
   "cell_type": "code",
   "execution_count": null,
   "id": "silver-monroe",
   "metadata": {},
   "outputs": [],
   "source": []
  }
 ],
 "metadata": {
  "kernelspec": {
   "display_name": "Python 3",
   "language": "python",
   "name": "python3"
  },
  "language_info": {
   "codemirror_mode": {
    "name": "ipython",
    "version": 3
   },
   "file_extension": ".py",
   "mimetype": "text/x-python",
   "name": "python",
   "nbconvert_exporter": "python",
   "pygments_lexer": "ipython3",
   "version": "3.8.8"
  }
 },
 "nbformat": 4,
 "nbformat_minor": 5
}
